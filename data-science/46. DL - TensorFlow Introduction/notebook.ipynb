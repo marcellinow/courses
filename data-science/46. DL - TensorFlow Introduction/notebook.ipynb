{
 "cells": [
  {
   "cell_type": "markdown",
   "metadata": {},
   "source": [
    "# Tensorflow Moment"
   ]
  },
  {
   "cell_type": "code",
   "execution_count": 1,
   "metadata": {},
   "outputs": [
    {
     "name": "stderr",
     "output_type": "stream",
     "text": [
      "2024-04-10 22:26:27.566420: I tensorflow/core/platform/cpu_feature_guard.cc:182] This TensorFlow binary is optimized to use available CPU instructions in performance-critical operations.\n",
      "To enable the following instructions: AVX2 FMA, in other operations, rebuild TensorFlow with the appropriate compiler flags.\n"
     ]
    }
   ],
   "source": [
    "import tensorflow as tf\n",
    "# tensorflow is deep learning library\n",
    "import numpy as np\n",
    "import matplotlib.pyplot as plt"
   ]
  },
  {
   "cell_type": "code",
   "execution_count": 2,
   "metadata": {},
   "outputs": [
    {
     "name": "stdout",
     "output_type": "stream",
     "text": [
      "2.15.0\n"
     ]
    }
   ],
   "source": [
    "print(tf.__version__)"
   ]
  },
  {
   "cell_type": "markdown",
   "metadata": {},
   "source": [
    "format file buat tensor : NPZ file"
   ]
  },
  {
   "cell_type": "markdown",
   "metadata": {},
   "source": [
    "## Generate Data"
   ]
  },
  {
   "cell_type": "code",
   "execution_count": 8,
   "metadata": {},
   "outputs": [],
   "source": [
    "observations = 100\n",
    "xs = np.random.uniform(low=-10,high=10,size=(observations,1))\n",
    "zs = np.random.uniform(low=-10,high=10,size=(observations,1))\n",
    "\n",
    "generated_inputs = np.column_stack((xs,zs))\n",
    "\n",
    "noise = np.random.uniform(-1,1,size=(observations,1))\n",
    "\n",
    "generated_target = 4 * xs + 12 * zs - 10 + noise\n",
    "\n",
    "# save file in npz formate file\n",
    "np.savez('TF_intro',input = generated_inputs,target = generated_target)"
   ]
  },
  {
   "cell_type": "markdown",
   "metadata": {},
   "source": [
    "## Solving with TensorFlow"
   ]
  },
  {
   "cell_type": "code",
   "execution_count": 9,
   "metadata": {},
   "outputs": [],
   "source": [
    "training_data = np.load('TF_intro.npz')"
   ]
  },
  {
   "cell_type": "code",
   "execution_count": 10,
   "metadata": {},
   "outputs": [
    {
     "name": "stdout",
     "output_type": "stream",
     "text": [
      "Epoch 1/100\n"
     ]
    },
    {
     "name": "stdout",
     "output_type": "stream",
     "text": [
      "4/4 - 0s - loss: 1279.8868 - 307ms/epoch - 77ms/step\n",
      "Epoch 2/100\n",
      "4/4 - 0s - loss: 97.7996 - 6ms/epoch - 2ms/step\n",
      "Epoch 3/100\n",
      "4/4 - 0s - loss: 88.2891 - 6ms/epoch - 2ms/step\n",
      "Epoch 4/100\n",
      "4/4 - 0s - loss: 44.8911 - 5ms/epoch - 1ms/step\n",
      "Epoch 5/100\n",
      "4/4 - 0s - loss: 43.9095 - 6ms/epoch - 1ms/step\n",
      "Epoch 6/100\n",
      "4/4 - 0s - loss: 30.7942 - 5ms/epoch - 1ms/step\n",
      "Epoch 7/100\n",
      "4/4 - 0s - loss: 23.3356 - 5ms/epoch - 1ms/step\n",
      "Epoch 8/100\n",
      "4/4 - 0s - loss: 15.7510 - 5ms/epoch - 1ms/step\n",
      "Epoch 9/100\n",
      "4/4 - 0s - loss: 11.6570 - 5ms/epoch - 1ms/step\n",
      "Epoch 10/100\n",
      "4/4 - 0s - loss: 6.7313 - 6ms/epoch - 1ms/step\n",
      "Epoch 11/100\n",
      "4/4 - 0s - loss: 5.7016 - 5ms/epoch - 1ms/step\n",
      "Epoch 12/100\n",
      "4/4 - 0s - loss: 3.8305 - 5ms/epoch - 1ms/step\n",
      "Epoch 13/100\n",
      "4/4 - 0s - loss: 4.4915 - 5ms/epoch - 1ms/step\n",
      "Epoch 14/100\n",
      "4/4 - 0s - loss: 2.6217 - 5ms/epoch - 1ms/step\n",
      "Epoch 15/100\n",
      "4/4 - 0s - loss: 1.6995 - 5ms/epoch - 1ms/step\n",
      "Epoch 16/100\n",
      "4/4 - 0s - loss: 1.2251 - 6ms/epoch - 1ms/step\n",
      "Epoch 17/100\n",
      "4/4 - 0s - loss: 1.1795 - 5ms/epoch - 1ms/step\n",
      "Epoch 18/100\n",
      "4/4 - 0s - loss: 0.8445 - 6ms/epoch - 1ms/step\n",
      "Epoch 19/100\n",
      "4/4 - 0s - loss: 1.6946 - 6ms/epoch - 1ms/step\n",
      "Epoch 20/100\n",
      "4/4 - 0s - loss: 0.8278 - 5ms/epoch - 1ms/step\n",
      "Epoch 21/100\n",
      "4/4 - 0s - loss: 0.6118 - 5ms/epoch - 1ms/step\n",
      "Epoch 22/100\n",
      "4/4 - 0s - loss: 0.6016 - 5ms/epoch - 1ms/step\n",
      "Epoch 23/100\n",
      "4/4 - 0s - loss: 0.5344 - 5ms/epoch - 1ms/step\n",
      "Epoch 24/100\n",
      "4/4 - 0s - loss: 0.5448 - 5ms/epoch - 1ms/step\n",
      "Epoch 25/100\n",
      "4/4 - 0s - loss: 0.7527 - 6ms/epoch - 2ms/step\n",
      "Epoch 26/100\n",
      "4/4 - 0s - loss: 0.4159 - 5ms/epoch - 1ms/step\n",
      "Epoch 27/100\n",
      "4/4 - 0s - loss: 0.6990 - 5ms/epoch - 1ms/step\n",
      "Epoch 28/100\n",
      "4/4 - 0s - loss: 0.3784 - 5ms/epoch - 1ms/step\n",
      "Epoch 29/100\n",
      "4/4 - 0s - loss: 0.4972 - 5ms/epoch - 1ms/step\n",
      "Epoch 30/100\n",
      "4/4 - 0s - loss: 0.6159 - 5ms/epoch - 1ms/step\n",
      "Epoch 31/100\n",
      "4/4 - 0s - loss: 0.4030 - 6ms/epoch - 1ms/step\n",
      "Epoch 32/100\n",
      "4/4 - 0s - loss: 0.5066 - 5ms/epoch - 1ms/step\n",
      "Epoch 33/100\n",
      "4/4 - 0s - loss: 0.4114 - 5ms/epoch - 1ms/step\n",
      "Epoch 34/100\n",
      "4/4 - 0s - loss: 0.4139 - 6ms/epoch - 1ms/step\n",
      "Epoch 35/100\n",
      "4/4 - 0s - loss: 0.4437 - 5ms/epoch - 1ms/step\n",
      "Epoch 36/100\n",
      "4/4 - 0s - loss: 0.4966 - 5ms/epoch - 1ms/step\n",
      "Epoch 37/100\n",
      "4/4 - 0s - loss: 0.4744 - 6ms/epoch - 1ms/step\n",
      "Epoch 38/100\n",
      "4/4 - 0s - loss: 0.4566 - 4ms/epoch - 1ms/step\n",
      "Epoch 39/100\n",
      "4/4 - 0s - loss: 0.3830 - 7ms/epoch - 2ms/step\n",
      "Epoch 40/100\n",
      "4/4 - 0s - loss: 0.5351 - 5ms/epoch - 1ms/step\n",
      "Epoch 41/100\n",
      "4/4 - 0s - loss: 0.4835 - 5ms/epoch - 1ms/step\n",
      "Epoch 42/100\n",
      "4/4 - 0s - loss: 0.3781 - 5ms/epoch - 1ms/step\n",
      "Epoch 43/100\n",
      "4/4 - 0s - loss: 0.4660 - 4ms/epoch - 1ms/step\n",
      "Epoch 44/100\n",
      "4/4 - 0s - loss: 0.4531 - 5ms/epoch - 1ms/step\n",
      "Epoch 45/100\n",
      "4/4 - 0s - loss: 0.3836 - 5ms/epoch - 1ms/step\n",
      "Epoch 46/100\n",
      "4/4 - 0s - loss: 0.3519 - 5ms/epoch - 1ms/step\n",
      "Epoch 47/100\n",
      "4/4 - 0s - loss: 0.4919 - 5ms/epoch - 1ms/step\n",
      "Epoch 48/100\n",
      "4/4 - 0s - loss: 0.4260 - 4ms/epoch - 1ms/step\n",
      "Epoch 49/100\n",
      "4/4 - 0s - loss: 0.3831 - 5ms/epoch - 1ms/step\n",
      "Epoch 50/100\n",
      "4/4 - 0s - loss: 0.3831 - 5ms/epoch - 1ms/step\n",
      "Epoch 51/100\n",
      "4/4 - 0s - loss: 0.4646 - 4ms/epoch - 1ms/step\n",
      "Epoch 52/100\n",
      "4/4 - 0s - loss: 0.4027 - 5ms/epoch - 1ms/step\n",
      "Epoch 53/100\n",
      "4/4 - 0s - loss: 0.4103 - 5ms/epoch - 1ms/step\n",
      "Epoch 54/100\n",
      "4/4 - 0s - loss: 0.4013 - 5ms/epoch - 1ms/step\n",
      "Epoch 55/100\n",
      "4/4 - 0s - loss: 0.3691 - 5ms/epoch - 1ms/step\n",
      "Epoch 56/100\n",
      "4/4 - 0s - loss: 0.3883 - 5ms/epoch - 1ms/step\n",
      "Epoch 57/100\n",
      "4/4 - 0s - loss: 0.5042 - 5ms/epoch - 1ms/step\n",
      "Epoch 58/100\n",
      "4/4 - 0s - loss: 0.4030 - 7ms/epoch - 2ms/step\n",
      "Epoch 59/100\n",
      "4/4 - 0s - loss: 0.3861 - 6ms/epoch - 1ms/step\n",
      "Epoch 60/100\n",
      "4/4 - 0s - loss: 0.3977 - 6ms/epoch - 1ms/step\n",
      "Epoch 61/100\n",
      "4/4 - 0s - loss: 0.5104 - 6ms/epoch - 2ms/step\n",
      "Epoch 62/100\n",
      "4/4 - 0s - loss: 0.3915 - 7ms/epoch - 2ms/step\n",
      "Epoch 63/100\n",
      "4/4 - 0s - loss: 0.4600 - 5ms/epoch - 1ms/step\n",
      "Epoch 64/100\n",
      "4/4 - 0s - loss: 0.4129 - 6ms/epoch - 2ms/step\n",
      "Epoch 65/100\n",
      "4/4 - 0s - loss: 0.3997 - 7ms/epoch - 2ms/step\n",
      "Epoch 66/100\n",
      "4/4 - 0s - loss: 0.4827 - 5ms/epoch - 1ms/step\n",
      "Epoch 67/100\n",
      "4/4 - 0s - loss: 0.3981 - 7ms/epoch - 2ms/step\n",
      "Epoch 68/100\n",
      "4/4 - 0s - loss: 0.3967 - 7ms/epoch - 2ms/step\n",
      "Epoch 69/100\n",
      "4/4 - 0s - loss: 0.5158 - 10ms/epoch - 3ms/step\n",
      "Epoch 70/100\n",
      "4/4 - 0s - loss: 0.5605 - 10ms/epoch - 3ms/step\n",
      "Epoch 71/100\n",
      "4/4 - 0s - loss: 0.4694 - 11ms/epoch - 3ms/step\n",
      "Epoch 72/100\n",
      "4/4 - 0s - loss: 0.4123 - 8ms/epoch - 2ms/step\n",
      "Epoch 73/100\n",
      "4/4 - 0s - loss: 0.3836 - 8ms/epoch - 2ms/step\n",
      "Epoch 74/100\n",
      "4/4 - 0s - loss: 0.4404 - 8ms/epoch - 2ms/step\n",
      "Epoch 75/100\n",
      "4/4 - 0s - loss: 0.4271 - 7ms/epoch - 2ms/step\n",
      "Epoch 76/100\n",
      "4/4 - 0s - loss: 0.4863 - 6ms/epoch - 2ms/step\n",
      "Epoch 77/100\n",
      "4/4 - 0s - loss: 0.3548 - 5ms/epoch - 1ms/step\n",
      "Epoch 78/100\n",
      "4/4 - 0s - loss: 0.4143 - 4ms/epoch - 1ms/step\n",
      "Epoch 79/100\n",
      "4/4 - 0s - loss: 0.6002 - 5ms/epoch - 1ms/step\n",
      "Epoch 80/100\n",
      "4/4 - 0s - loss: 0.4259 - 7ms/epoch - 2ms/step\n",
      "Epoch 81/100\n",
      "4/4 - 0s - loss: 0.3748 - 6ms/epoch - 2ms/step\n",
      "Epoch 82/100\n",
      "4/4 - 0s - loss: 0.4854 - 5ms/epoch - 1ms/step\n",
      "Epoch 83/100\n",
      "4/4 - 0s - loss: 0.5270 - 5ms/epoch - 1ms/step\n",
      "Epoch 84/100\n",
      "4/4 - 0s - loss: 0.5376 - 5ms/epoch - 1ms/step\n",
      "Epoch 85/100\n",
      "4/4 - 0s - loss: 0.4051 - 5ms/epoch - 1ms/step\n",
      "Epoch 86/100\n",
      "4/4 - 0s - loss: 0.3722 - 5ms/epoch - 1ms/step\n",
      "Epoch 87/100\n",
      "4/4 - 0s - loss: 0.3863 - 5ms/epoch - 1ms/step\n",
      "Epoch 88/100\n",
      "4/4 - 0s - loss: 0.3901 - 6ms/epoch - 2ms/step\n",
      "Epoch 89/100\n",
      "4/4 - 0s - loss: 0.4181 - 6ms/epoch - 1ms/step\n",
      "Epoch 90/100\n",
      "4/4 - 0s - loss: 0.5488 - 5ms/epoch - 1ms/step\n",
      "Epoch 91/100\n",
      "4/4 - 0s - loss: 0.3677 - 5ms/epoch - 1ms/step\n",
      "Epoch 92/100\n",
      "4/4 - 0s - loss: 0.4648 - 5ms/epoch - 1ms/step\n",
      "Epoch 93/100\n",
      "4/4 - 0s - loss: 0.4104 - 5ms/epoch - 1ms/step\n",
      "Epoch 94/100\n",
      "4/4 - 0s - loss: 0.4368 - 6ms/epoch - 2ms/step\n",
      "Epoch 95/100\n",
      "4/4 - 0s - loss: 0.5330 - 5ms/epoch - 1ms/step\n",
      "Epoch 96/100\n",
      "4/4 - 0s - loss: 0.5292 - 5ms/epoch - 1ms/step\n",
      "Epoch 97/100\n",
      "4/4 - 0s - loss: 0.7150 - 5ms/epoch - 1ms/step\n",
      "Epoch 98/100\n",
      "4/4 - 0s - loss: 0.4220 - 5ms/epoch - 1ms/step\n",
      "Epoch 99/100\n",
      "4/4 - 0s - loss: 0.3782 - 6ms/epoch - 2ms/step\n",
      "Epoch 100/100\n",
      "4/4 - 0s - loss: 0.3557 - 5ms/epoch - 1ms/step\n"
     ]
    },
    {
     "data": {
      "text/plain": [
       "'\\nverbose : silent, no outpot\\n'"
      ]
     },
     "execution_count": 10,
     "metadata": {},
     "output_type": "execute_result"
    }
   ],
   "source": [
    "input_size = 2\n",
    "output_size = 1\n",
    "\n",
    "model = tf.keras.Sequential([\n",
    "    tf.keras.layers.Dense(output_size,\n",
    "                          kernel_initializer = tf.random_uniform_initializer(minval=-0.1,maxval=0.1),\n",
    "                          bias_initializer = tf.random_uniform_initializer(minval=-0.1,maxval=0.1)\n",
    "                        )\n",
    "])\n",
    "\n",
    "# Optimizer tambahan\n",
    "custom_optimizer = tf.keras.optimizers.SGD(learning_rate =0.02)\n",
    "'''\n",
    "lu bisa gini juga\n",
    "model.compile(optimizer= 'sgd',loss='mean_squared_error')\n",
    "buat penamaan, lu bisa buka dokumennya tf.keras\n",
    "\n",
    "'''\n",
    "model.compile(optimizer= custom_optimizer,loss='mean_squared_error')\n",
    "model.fit(training_data['input'],training_data['target'],epochs = 100,verbose =2) \n",
    "'''\n",
    "verbose : silent, no outpot\n",
    "'''"
   ]
  },
  {
   "cell_type": "markdown",
   "metadata": {},
   "source": [
    "## Extract the Weights and Bias"
   ]
  },
  {
   "cell_type": "markdown",
   "metadata": {},
   "source": [
    "note : <br>\n",
    "our model function <br>\n",
    "4 * xs + 12 * zs - 10 + noise"
   ]
  },
  {
   "cell_type": "code",
   "execution_count": 11,
   "metadata": {},
   "outputs": [
    {
     "data": {
      "text/plain": [
       "[array([[ 4.0569024],\n",
       "        [11.953464 ]], dtype=float32),\n",
       " array([-9.998192], dtype=float32)]"
      ]
     },
     "execution_count": 11,
     "metadata": {},
     "output_type": "execute_result"
    }
   ],
   "source": [
    "model.layers[0].get_weights()"
   ]
  },
  {
   "cell_type": "code",
   "execution_count": 12,
   "metadata": {},
   "outputs": [
    {
     "data": {
      "text/plain": [
       "array([[ 4.0569024],\n",
       "       [11.953464 ]], dtype=float32)"
      ]
     },
     "execution_count": 12,
     "metadata": {},
     "output_type": "execute_result"
    }
   ],
   "source": [
    "weights = model.layers[0].get_weights()[0]\n",
    "weights"
   ]
  },
  {
   "cell_type": "code",
   "execution_count": 13,
   "metadata": {},
   "outputs": [
    {
     "data": {
      "text/plain": [
       "array([-9.998192], dtype=float32)"
      ]
     },
     "execution_count": 13,
     "metadata": {},
     "output_type": "execute_result"
    }
   ],
   "source": [
    "bias = model.layers[0].get_weights()[1]\n",
    "bias"
   ]
  },
  {
   "cell_type": "markdown",
   "metadata": {},
   "source": [
    "## Make Predictions"
   ]
  },
  {
   "cell_type": "code",
   "execution_count": 14,
   "metadata": {},
   "outputs": [
    {
     "data": {
      "text/plain": [
       "array([[   8.9],\n",
       "       [ -71. ],\n",
       "       [ 131.8],\n",
       "       [ -41.6],\n",
       "       [ -98.2],\n",
       "       [  35.4],\n",
       "       [ -92.3],\n",
       "       [ -56.7],\n",
       "       [  69.9],\n",
       "       [  69.9],\n",
       "       [   2. ],\n",
       "       [-123.8],\n",
       "       [  73.5],\n",
       "       [  83.7],\n",
       "       [  90.6],\n",
       "       [  87.8],\n",
       "       [  75.6],\n",
       "       [ -75.6],\n",
       "       [ -78.8],\n",
       "       [  88.2],\n",
       "       [   0.9],\n",
       "       [  24.8],\n",
       "       [-112.6],\n",
       "       [   4.9],\n",
       "       [  33.7],\n",
       "       [  24.9],\n",
       "       [  49.5],\n",
       "       [ -68.9],\n",
       "       [  75.6],\n",
       "       [ -96.5],\n",
       "       [ -53.3],\n",
       "       [  55.2],\n",
       "       [ -26.8],\n",
       "       [ 132.2],\n",
       "       [ -59.5],\n",
       "       [ 124.6],\n",
       "       [  60. ],\n",
       "       [ -46.3],\n",
       "       [  98.8],\n",
       "       [   5.1],\n",
       "       [  42.6],\n",
       "       [ -26.4],\n",
       "       [-139.9],\n",
       "       [  31.1],\n",
       "       [  39.1],\n",
       "       [ -23.7],\n",
       "       [-119.2],\n",
       "       [  75.3],\n",
       "       [ -78. ],\n",
       "       [  36. ],\n",
       "       [  23.9],\n",
       "       [ -52.6],\n",
       "       [ -14.8],\n",
       "       [  48. ],\n",
       "       [  25.5],\n",
       "       [   8.9],\n",
       "       [  55. ],\n",
       "       [-126. ],\n",
       "       [  91.1],\n",
       "       [  81.7],\n",
       "       [ -19.6],\n",
       "       [ -16.7],\n",
       "       [ -74. ],\n",
       "       [-104.9],\n",
       "       [-116. ],\n",
       "       [  65.8],\n",
       "       [  13.1],\n",
       "       [ -82.9],\n",
       "       [ -96. ],\n",
       "       [  78.1],\n",
       "       [ -22.3],\n",
       "       [ -44.4],\n",
       "       [-109. ],\n",
       "       [  77.1],\n",
       "       [  94.5],\n",
       "       [ -31.6],\n",
       "       [ 120.4],\n",
       "       [  90.2],\n",
       "       [  84.6],\n",
       "       [  32.6],\n",
       "       [ -55.7],\n",
       "       [   5.8],\n",
       "       [ -67.9],\n",
       "       [  88.1],\n",
       "       [  96.2],\n",
       "       [ -85.9],\n",
       "       [  27.3],\n",
       "       [ -26.3],\n",
       "       [ -72.6],\n",
       "       [ -27.4],\n",
       "       [  47.1],\n",
       "       [  46.6],\n",
       "       [  14.8],\n",
       "       [ -67.1],\n",
       "       [  81.8],\n",
       "       [-131.9],\n",
       "       [  31.9],\n",
       "       [ 104.7],\n",
       "       [ -85.2],\n",
       "       [  26.9]], dtype=float32)"
      ]
     },
     "execution_count": 14,
     "metadata": {},
     "output_type": "execute_result"
    }
   ],
   "source": [
    "'''\n",
    "\n",
    "Outputnya based on the train model\n",
    "\n",
    "'''\n",
    "model.predict_on_batch(training_data['input']).round(1)"
   ]
  },
  {
   "cell_type": "code",
   "execution_count": 15,
   "metadata": {},
   "outputs": [
    {
     "data": {
      "text/plain": [
       "array([[   8.8],\n",
       "       [ -70.5],\n",
       "       [ 132.3],\n",
       "       [ -40.5],\n",
       "       [ -98.5],\n",
       "       [  34.9],\n",
       "       [ -93. ],\n",
       "       [ -55.5],\n",
       "       [  70.5],\n",
       "       [  70.1],\n",
       "       [   3.3],\n",
       "       [-123.9],\n",
       "       [  74. ],\n",
       "       [  84.9],\n",
       "       [  90.2],\n",
       "       [  88.4],\n",
       "       [  76.1],\n",
       "       [ -77.1],\n",
       "       [ -79. ],\n",
       "       [  88.5],\n",
       "       [   1.5],\n",
       "       [  25.8],\n",
       "       [-113.2],\n",
       "       [   5.3],\n",
       "       [  34.7],\n",
       "       [  24.8],\n",
       "       [  49.8],\n",
       "       [ -68.9],\n",
       "       [  75.4],\n",
       "       [ -96.3],\n",
       "       [ -54.4],\n",
       "       [  56.6],\n",
       "       [ -26.6],\n",
       "       [ 132.6],\n",
       "       [ -60.8],\n",
       "       [ 125.1],\n",
       "       [  59.4],\n",
       "       [ -45.8],\n",
       "       [  98.7],\n",
       "       [   5.3],\n",
       "       [  43.3],\n",
       "       [ -27.1],\n",
       "       [-139.5],\n",
       "       [  31. ],\n",
       "       [  39.5],\n",
       "       [ -22.8],\n",
       "       [-120.2],\n",
       "       [  75.1],\n",
       "       [ -78.7],\n",
       "       [  35.8],\n",
       "       [  24.7],\n",
       "       [ -51.6],\n",
       "       [ -15.5],\n",
       "       [  48.3],\n",
       "       [  26. ],\n",
       "       [   8.6],\n",
       "       [  54.3],\n",
       "       [-126.7],\n",
       "       [  90. ],\n",
       "       [  81.6],\n",
       "       [ -20.2],\n",
       "       [ -16.5],\n",
       "       [ -74.8],\n",
       "       [-105. ],\n",
       "       [-116.1],\n",
       "       [  66.9],\n",
       "       [  13.5],\n",
       "       [ -82.4],\n",
       "       [ -96.5],\n",
       "       [  79.4],\n",
       "       [ -22.3],\n",
       "       [ -44.9],\n",
       "       [-109.4],\n",
       "       [  76.1],\n",
       "       [  95.5],\n",
       "       [ -32. ],\n",
       "       [ 120.1],\n",
       "       [  90.3],\n",
       "       [  85.4],\n",
       "       [  31.8],\n",
       "       [ -56.6],\n",
       "       [   7. ],\n",
       "       [ -68.9],\n",
       "       [  87.7],\n",
       "       [  96.3],\n",
       "       [ -85.2],\n",
       "       [  26.8],\n",
       "       [ -26. ],\n",
       "       [ -73.9],\n",
       "       [ -26.9],\n",
       "       [  47. ],\n",
       "       [  47.2],\n",
       "       [  14.1],\n",
       "       [ -68.4],\n",
       "       [  81.5],\n",
       "       [-132.6],\n",
       "       [  32.7],\n",
       "       [ 104.4],\n",
       "       [ -85.9],\n",
       "       [  26.2]])"
      ]
     },
     "execution_count": 15,
     "metadata": {},
     "output_type": "execute_result"
    }
   ],
   "source": [
    "training_data['target'].round(1)"
   ]
  },
  {
   "cell_type": "markdown",
   "metadata": {},
   "source": [
    "## Plotting the Data"
   ]
  },
  {
   "cell_type": "code",
   "execution_count": 16,
   "metadata": {},
   "outputs": [
    {
     "data": {
      "image/png": "[encoded data removed]",
      "text/plain": [
       "<Figure size 640x480 with 1 Axes>"
      ]
     },
     "metadata": {},
     "output_type": "display_data"
    }
   ],
   "source": [
    "plt.plot(model.predict_on_batch(training_data['input']),training_data['target'])\n",
    "plt.xlabel('INPUT')\n",
    "plt.ylabel('OUTPUT')\n",
    "plt.show()"
   ]
  }
 ],
 "metadata": {
  "kernelspec": {
   "display_name": "base",
   "language": "python",
   "name": "python3"
  },
  "language_info": {
   "codemirror_mode": {
    "name": "ipython",
    "version": 3
   },
   "file_extension": ".py",
   "mimetype": "text/x-python",
   "name": "python",
   "nbconvert_exporter": "python",
   "pygments_lexer": "ipython3",
   "version": "3.11.5"
  }
 },
 "nbformat": 4,
 "nbformat_minor": 2
}
